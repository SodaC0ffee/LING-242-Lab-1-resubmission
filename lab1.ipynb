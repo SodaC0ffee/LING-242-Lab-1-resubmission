{
 "cells": [
  {
   "cell_type": "markdown",
   "metadata": {},
   "source": [
    "## Lab 1: Preprocessing\n"
   ]
  },
  {
   "cell_type": "markdown",
   "metadata": {},
   "source": [
    "### 0.Prepraring data\n",
    "Text preprocessing is a crucial step for natural language processing (NLP) tasks as it transform texts into forms that could be recognized by various computational models or machine learning algorithms.\n",
    "\n",
    "The objective of this lab is to perform the following preprocessing tasks: (1) Tokenization: splitting strings of texts into smaller units with distinct meanings, which are known as \"tokens\"; (2) Sentence Boundary Disambiguation/Detection (SBD): processing text at the sentence level which entails identifying start and end of sentences."
   ]
  },
  {
   "cell_type": "code",
   "execution_count": 3,
   "metadata": {},
   "outputs": [
    {
     "name": "stdout",
     "output_type": "stream",
     "text": [
      "--2024-04-17 16:55:21--  ftp://ftp.cis.upenn.edu/pub/treebank/public_html/tokenizer.sed\n",
      "           => “/Users/esmeyang/Desktop/LING_242/tokenizer.sed”\n",
      "正在解析主机 ftp.cis.upenn.edu (ftp.cis.upenn.edu)... 158.130.97.4\n",
      "正在连接 ftp.cis.upenn.edu (ftp.cis.upenn.edu)|158.130.97.4|:21... 已连接。\n",
      "正在以 anonymous 登录 ... 登录成功！\n",
      "==> SYST ... 完成。   ==> PWD ... 完成。\n",
      "==> TYPE I ... 完成。 ==> CWD (1) /pub/treebank/public_html ... 完成。\n",
      "==> SIZE tokenizer.sed ... 2204\n",
      "==> PASV ... 完成。   ==> RETR tokenizer.sed ... 完成。\n",
      "长度：2204 (2.2K) (非正式数据)\n",
      "\n",
      "tokenizer.sed       100%[===================>]   2.15K  --.-KB/s  用时 0s        \n",
      "\n",
      "2024-04-17 16:55:22 (140 MB/s) - “/Users/esmeyang/Desktop/LING_242/tokenizer.sed” 已保存 [2204]\n",
      "\n"
     ]
    }
   ],
   "source": [
    "!wget -P \"/Users/esmeyang/Desktop/LING_242\" ftp://ftp.cis.upenn.edu/pub/treebank/public_html/tokenizer.sed"
   ]
  },
  {
   "cell_type": "code",
   "execution_count": 5,
   "metadata": {},
   "outputs": [
    {
     "name": "stdout",
     "output_type": "stream",
     "text": [
      "-rw-r--r--  1 esmeyang  staff  2204 Apr 17 16:55 /Users/esmeyang/Desktop/LING_242/tokenizer.sed\n"
     ]
    }
   ],
   "source": [
    "!ls -l /Users/esmeyang/Desktop/LING_242/tokenizer.sed\n",
    "!chmod 755 /Users/esmeyang/Desktop/LING_242/tokenizer.sed "
   ]
  },
  {
   "cell_type": "markdown",
   "metadata": {},
   "source": [
    " - the command ```ls -l /Users/esmeyang/Desktop/LING_242/tokenizer.sed``` is listing detailed information about the file tokenizer.sed in the specified directory.\n",
    " - the command ```chmod 755 /Users/esmeyang/Desktop/LING_242/tokenizer.sed``` is changing the permissions of the file tokenizer.sed to allow the owner to read, write, and execute, and allowing others to read and execute it."
   ]
  },
  {
   "cell_type": "code",
   "execution_count": 6,
   "metadata": {},
   "outputs": [
    {
     "name": "stdout",
     "output_type": "stream",
     "text": [
      "#!/bin/sed -f\n"
     ]
    }
   ],
   "source": [
    "!head -n 1 /Users/esmeyang/Desktop/LING_242/tokenizer.sed"
   ]
  },
  {
   "cell_type": "markdown",
   "metadata": {},
   "source": [
    "- The command ```!head -n 1 /Users/esmeyang/Desktop/LING_242/tokenizer.sed``` is used to display the first line of the file tokenizer.sed located at the specified path ```/Users/esmeyang/Desktop/LING_242/tokenizer.sed```"
   ]
  },
  {
   "cell_type": "code",
   "execution_count": 10,
   "metadata": {},
   "outputs": [
    {
     "name": "stdout",
     "output_type": "stream",
     "text": [
      "zsh:1: ./Users/esmeyang/Desktop/LING_242/tokenizer.sed: bad interpreter: /bin/sed: no such file or directory\n"
     ]
    }
   ],
   "source": [
    "!./Users/esmeyang/Desktop/LING_242/tokenizer.sed en_ewt-ud-dev.txt | head"
   ]
  },
  {
   "cell_type": "markdown",
   "metadata": {},
   "source": [
    "- This command uses the ```-f``` option of sed to specify the Sed script file, and then applies the script to the ```en_ewt-ud-dev.txt file```. Finally, it pipes the output to head to display the first few lines of the output."
   ]
  },
  {
   "cell_type": "code",
   "execution_count": 13,
   "metadata": {},
   "outputs": [
    {
     "name": "stdout",
     "output_type": "stream",
     "text": [
      "/usr/bin/sed\n"
     ]
    }
   ],
   "source": [
    "!which sed"
   ]
  },
  {
   "cell_type": "code",
   "execution_count": 14,
   "metadata": {},
   "outputs": [],
   "source": [
    "!sed -i '' '1s|#! /bin/sed|#! /usr/bin/sed|' /Users/esmeyang/Desktop/LING_242/tokenizer.sed\n"
   ]
  },
  {
   "cell_type": "markdown",
   "metadata": {},
   "source": [
    "- editing the first line of the file ```tokenizer.sed```, replacing ```#!/bin/sed with #!/usr/bin/sed```"
   ]
  },
  {
   "cell_type": "code",
   "execution_count": 17,
   "metadata": {},
   "outputs": [],
   "source": [
    "!chmod +x /Users/esmeyang/Desktop/LING_242/tokenizer.sed"
   ]
  },
  {
   "cell_type": "markdown",
   "metadata": {},
   "source": [
    "- The command ```chmod +x /Users/esmeyang/Desktop/LING_242/tokenizer.sed``` is used to add the executable permission to the file tokenizer.sed located at the specified path ```/Users/esmeyang/Desktop/LING_242/tokenizer.sed```\n",
    "\n",
    "- ```chmod```: This command is used to change the permissions of a file or directory in Unix and Linux operating systems.\n",
    "- ```+x```: This option adds the executable permission to the file. With the executable permission (x), the file can be executed as a program or script.\n",
    "- ```/Users/esmeyang/Desktop/LING_242/tokenizer.sed```: This is the path to the file tokenizer.sed whose permissions are being changed."
   ]
  },
  {
   "cell_type": "code",
   "execution_count": 18,
   "metadata": {},
   "outputs": [
    {
     "name": "stdout",
     "output_type": "stream",
     "text": [
      "/Users/esmeyang/Desktop/LING_242/tokenizer.sed:15: g not found\n"
     ]
    }
   ],
   "source": [
    "!. /Users/esmeyang/Desktop/LING_242/tokenizer.sed en_ewt-ud-dev.txt | head"
   ]
  },
  {
   "cell_type": "code",
   "execution_count": 20,
   "metadata": {},
   "outputs": [
    {
     "name": "stdout",
     "output_type": "stream",
     "text": [
      "#!/bin/sed -f\n",
      "\n",
      "# Sed script to produce Penn Treebank tokenization on arbitrary raw text.\n",
      "# Yeah, sure.\n",
      "\n",
      "# expected input: raw text with ONE SENTENCE TOKEN PER LINE\n",
      "\n",
      "# by Robert MacIntyre, University of Pennsylvania, late 1995.\n",
      "\n",
      "# If this wasn't such a trivial program, I'd include all that stuff about\n",
      "# no warrantee, free use, etc. from the GNU General Public License.  If you\n",
      "# want to be picky, assume that all of its terms apply.  Okay?\n",
      "\n",
      "# attempt to get correct directional quotes\n",
      "s=^\"=`` =g\n",
      "s=\\([ ([{<]\\)\"=\\1 `` =g\n",
      "# close quotes handled at end\n",
      "\n",
      "s=\\.\\.\\.= ... =g\n",
      "s=[,;:@#$%&]= & =g\n",
      "\n",
      "# Assume sentence tokenization has been done first, so split FINAL periods\n",
      "# only. \n",
      "s=\\([^.]\\)\\([.]\\)\\([])}>\"']*\\)[ \t]*$=\\1 \\2\\3 =g\n",
      "# however, we may as well split ALL question marks and exclamation points,\n",
      "# since they shouldn't have the abbrev.-marker ambiguity problem\n",
      "s=[?!]= & =g\n",
      "\n",
      "# parentheses, brackets, etc.\n",
      "s=[][(){}<>]= & =g\n",
      "# Some taggers, such as Adwait Ratnaparkhi's MXPOST, use the parsed-file\n",
      "# version of these symbols.\n",
      "# UNCOMMENT THE FOLLOWING 6 LINES if you're using MXPOST.\n",
      "# s/(/-LRB-/g\n",
      "# s/)/-RRB-/g\n",
      "# s/\\[/-LSB-/g\n",
      "# s/\\]/-RSB-/g\n",
      "# s/{/-LCB-/g\n",
      "# s/}/-RCB-/g\n",
      "\n",
      "s=--= -- =g\n",
      "\n",
      "# NOTE THAT SPLIT WORDS ARE NOT MARKED.  Obviously this isn't great, since\n",
      "# you might someday want to know how the words originally fit together --\n",
      "# but it's too late to make a better system now, given the millions of\n",
      "# words we've already done \"wrong\".\n",
      "\n",
      "# First off, add a space to the beginning and end of each line, to reduce\n",
      "# necessary number of regexps.\n",
      "s=$= =\n",
      "s=^= =\n",
      "\n",
      "s=\"= '' =g\n",
      "# possessive or close-single-quote\n",
      "s=\\([^']\\)' =\\1 ' =g\n",
      "# as in it's, I'm, we'd\n",
      "s='\\([sSmMdD]\\) = '\\1 =g\n",
      "s='ll = 'll =g\n",
      "s='re = 're =g\n",
      "s='ve = 've =g\n",
      "s=n't = n't =g\n",
      "s='LL = 'LL =g\n",
      "s='RE = 'RE =g\n",
      "s='VE = 'VE =g\n",
      "s=N'T = N'T =g\n",
      "\n",
      "s= \\([Cc]\\)annot = \\1an not =g\n",
      "s= \\([Dd]\\)'ye = \\1' ye =g\n",
      "s= \\([Gg]\\)imme = \\1im me =g\n",
      "s= \\([Gg]\\)onna = \\1on na =g\n",
      "s= \\([Gg]\\)otta = \\1ot ta =g\n",
      "s= \\([Ll]\\)emme = \\1em me =g\n",
      "s= \\([Mm]\\)ore'n = \\1ore 'n =g\n",
      "s= '\\([Tt]\\)is = '\\1 is =g\n",
      "s= '\\([Tt]\\)was = '\\1 was =g\n",
      "s= \\([Ww]\\)anna = \\1an na =g\n",
      "# s= \\([Ww]\\)haddya = \\1ha dd ya =g\n",
      "# s= \\([Ww]\\)hatcha = \\1ha t cha =g\n",
      "\n",
      "# clean out extra spaces\n",
      "s=  *= =g\n",
      "s=^ *==g\n"
     ]
    }
   ],
   "source": [
    "!cat /Users/esmeyang/Desktop/LING_242/tokenizer.sed"
   ]
  },
  {
   "cell_type": "code",
   "execution_count": 25,
   "metadata": {},
   "outputs": [
    {
     "name": "stdout",
     "output_type": "stream",
     "text": [
      "/Users/esmeyang/Desktop/LING_242/tokenizer.sed:15: g not found\n"
     ]
    }
   ],
   "source": [
    "!sed -i '' '15s|^\"|\"''`` |g' /Users/esmeyang/Desktop/LING_242/tokenizer.sed\n",
    "!chmod +x /Users/esmeyang/Desktop/LING_242/tokenizer.sed\n",
    "!. /Users/esmeyang/Desktop/LING_242/tokenizer.sed en_ewt-ud-dev.txt | head"
   ]
  },
  {
   "cell_type": "code",
   "execution_count": 35,
   "metadata": {},
   "outputs": [
    {
     "name": "stdout",
     "output_type": "stream",
     "text": [
      "From the AP comes this story : \n",
      "\n",
      "President Bush on Tuesday nominated two individuals to replace retiring jurists \n",
      "on federal courts in the Washington area. Bush nominated Jennifer M. Anderson \n",
      "for a 15-year term as associate judge of the Superior Court of the District of \n",
      "Columbia , replacing Steffen W. Graae. *** Bush also nominated A. Noel Anketell \n",
      "Kramer for a 15-year term as associate judge of the District of Columbia Court \n",
      "of Appeals , replacing John Montague Steadman . \n",
      "\n",
      "The sheikh in wheel-chair has been attacked with a F-16-launched bomb. He could \n",
      "sed: stdout: Broken pipe\n"
     ]
    }
   ],
   "source": [
    "!/Users/esmeyang/Desktop/LING_242/tokenizer.sed /Users/esmeyang/Downloads/en_ewt-ud-dev.txt | head"
   ]
  },
  {
   "cell_type": "code",
   "execution_count": 28,
   "metadata": {},
   "outputs": [
    {
     "name": "stdout",
     "output_type": "stream",
     "text": [
      "/usr/bin/sed\n"
     ]
    }
   ],
   "source": [
    "!which sed "
   ]
  },
  {
   "cell_type": "code",
   "execution_count": 33,
   "metadata": {},
   "outputs": [
    {
     "name": "stdout",
     "output_type": "stream",
     "text": [
      "/Users/esmeyang\n"
     ]
    }
   ],
   "source": [
    "%cd"
   ]
  },
  {
   "cell_type": "code",
   "execution_count": 34,
   "metadata": {},
   "outputs": [
    {
     "name": "stdout",
     "output_type": "stream",
     "text": [
      "find: ./Pictures/Photos Library.photoslibrary: Operation not permitted\n",
      "find: ./Library/Application Support/CallHistoryTransactions: Operation not permitted\n",
      "find: ./Library/Application Support/CloudDocs/session/db: Operation not permitted\n",
      "find: ./Library/Application Support/com.apple.sharedfilelist: Operation not permitted\n",
      "find: ./Library/Application Support/Knowledge: Operation not permitted\n",
      "find: ./Library/Application Support/com.apple.TCC: Operation not permitted\n",
      "find: ./Library/Application Support/FileProvider: Operation not permitted\n",
      "find: ./Library/Application Support/AddressBook: Operation not permitted\n",
      "find: ./Library/Application Support/FaceTime: Operation not permitted\n",
      "find: ./Library/Application Support/com.apple.avfoundation/Frecents: Operation not permitted\n",
      "find: ./Library/Application Support/CallHistoryDB: Operation not permitted\n",
      "find: ./Library/Assistant/SiriVocabulary: Operation not permitted\n",
      "find: ./Library/Autosave Information: Operation not permitted\n",
      "find: ./Library/IdentityServices: Operation not permitted\n",
      "find: ./Library/Calendars: Operation not permitted\n",
      "find: ./Library/Messages: Operation not permitted\n",
      "find: ./Library/HomeKit: Operation not permitted\n",
      "find: ./Library/Sharing: Operation not permitted\n",
      "find: ./Library/com.apple.aiml.instrumentation: Operation not permitted\n",
      "find: ./Library/NGL: Permission denied\n",
      "find: ./Library/Mail: Operation not permitted\n",
      "find: ./Library/Trial: Operation not permitted\n",
      "find: ./Library/AppleMediaServices: Operation not permitted\n",
      "find: ./Library/DuetExpertCenter: Operation not permitted\n",
      "find: ./Library/Accounts: Operation not permitted\n",
      "find: ./Library/Safari: Operation not permitted\n",
      "find: ./Library/Biome: Operation not permitted\n",
      "find: ./Library/IntelligencePlatform: Operation not permitted\n",
      "find: ./Library/Shortcuts: Operation not permitted\n",
      "find: ./Library/Suggestions: Operation not permitted\n",
      "find: ./Library/Weather: Operation not permitted\n",
      "find: ./Library/Group Containers/group.com.apple.secure-control-center-preferences: Operation not permitted\n",
      "find: ./Library/Group Containers/group.com.apple.notes: Operation not permitted\n",
      "find: ./Library/Containers/com.apple.VoiceMemos: Operation not permitted\n",
      "find: ./Library/Containers/com.apple.archiveutility: Operation not permitted\n",
      "find: ./Library/Containers/com.apple.Maps/Data/Maps: Operation not permitted\n",
      "find: ./Library/Containers/com.apple.Home: Operation not permitted\n",
      "find: ./Library/Containers/com.apple.Safari: Operation not permitted\n",
      "find: ./Library/Containers/com.apple.CloudDocs.MobileDocumentsFileProvider: Operation not permitted\n",
      "find: ./Library/Containers/com.apple.mail: Operation not permitted\n",
      "find: ./Library/Containers/com.apple.Notes: Operation not permitted\n",
      "find: ./Library/Containers/com.apple.news: Operation not permitted\n",
      "find: ./Library/Containers/com.apple.corerecents.recentsd/Data/Library/Recents: Operation not permitted\n",
      "find: ./Library/Containers/com.apple.stocks: Operation not permitted\n",
      "find: ./Library/PersonalizationPortrait: Operation not permitted\n",
      "find: ./Library/Photos/Libraries/Syndication.photoslibrary: Operation not permitted\n",
      "find: ./Library/Metadata/CoreSpotlight: Operation not permitted\n",
      "find: ./Library/Metadata/com.apple.IntelligentSuggestions: Operation not permitted\n",
      "find: ./Library/Cookies: Operation not permitted\n",
      "find: ./Library/CoreFollowUp: Operation not permitted\n",
      "find: ./Library/StatusKit: Operation not permitted\n",
      "find: ./Library/DoNotDisturb: Operation not permitted\n",
      "find: ./Library/Caches/com.apple.HomeKit: Operation not permitted\n",
      "find: ./Library/Caches/CloudKit: Operation not permitted\n",
      "find: ./Library/Caches/com.apple.Safari: Operation not permitted\n",
      "find: ./Library/Caches/com.apple.findmy.imagecache: Operation not permitted\n",
      "find: ./Library/Caches/com.apple.findmy.fmfcore: Operation not permitted\n",
      "find: ./Library/Caches/FamilyCircle: Operation not permitted\n",
      "find: ./Library/Caches/com.apple.homed: Operation not permitted\n",
      "find: ./Library/Caches/com.apple.findmy.fmipcore: Operation not permitted\n",
      "find: ./Library/Caches/com.apple.ap.adprivacyd: Operation not permitted\n",
      "find: ./.Trash: Operation not permitted\n",
      "./Downloads/en_ewt-ud-dev.txt\n"
     ]
    }
   ],
   "source": [
    "!find . -name \"en_ewt-ud-dev.txt\""
   ]
  },
  {
   "cell_type": "markdown",
   "metadata": {},
   "source": [
    "Locate the ```en_ewt-ud-dev.txt``` file"
   ]
  },
  {
   "cell_type": "markdown",
   "metadata": {},
   "source": [
    "## Tokenizer.perl"
   ]
  },
  {
   "cell_type": "markdown",
   "metadata": {},
   "source": [
    "TODO complete commands for tokenizer.perl\n",
    "\n",
    "First, download scripts.tgz and extract tokenizer.perl from Moses which is available in the at https://www.statmt.org/wmt09/scripts.tgz."
   ]
  },
  {
   "cell_type": "code",
   "execution_count": 36,
   "metadata": {},
   "outputs": [
    {
     "name": "stdout",
     "output_type": "stream",
     "text": [
      "--2024-04-17 17:55:05--  https://www.statmt.org/wmt09/scripts.tgz\n",
      "正在解析主机 www.statmt.org (www.statmt.org)... 129.215.32.28\n",
      "正在连接 www.statmt.org (www.statmt.org)|129.215.32.28|:443... 已连接。\n",
      "已发出 HTTP 请求，正在等待回应... 200 OK\n",
      "长度：4927 (4.8K) [application/x-gzip]\n",
      "正在保存至: “scripts.tgz”\n",
      "\n",
      "scripts.tgz         100%[===================>]   4.81K  --.-KB/s  用时 0s        \n",
      "\n",
      "2024-04-17 17:55:06 (587 MB/s) - 已保存 “scripts.tgz” [4927/4927])\n",
      "\n"
     ]
    }
   ],
   "source": [
    "!wget https://www.statmt.org/wmt09/scripts.tgz"
   ]
  },
  {
   "cell_type": "code",
   "execution_count": 37,
   "metadata": {},
   "outputs": [
    {
     "name": "stdout",
     "output_type": "stream",
     "text": [
      "x scripts/\n",
      "x scripts/detokenizer.perl\n",
      "x scripts/wrap-xml.perl\n",
      "x scripts/lowercase.perl\n",
      "x scripts/tokenizer.perl\n",
      "x scripts/reuse-weights.perl\n",
      "x scripts/nonbreaking_prefixes/\n",
      "x scripts/nonbreaking_prefixes/nonbreaking_prefix.de\n",
      "x scripts/nonbreaking_prefixes/nonbreaking_prefix.en\n",
      "x scripts/nonbreaking_prefixes/nonbreaking_prefix.el\n"
     ]
    }
   ],
   "source": [
    "! tar xvfz scripts.tgz"
   ]
  },
  {
   "cell_type": "markdown",
   "metadata": {},
   "source": [
    "Unzip the file"
   ]
  },
  {
   "cell_type": "code",
   "execution_count": 38,
   "metadata": {},
   "outputs": [
    {
     "name": "stdout",
     "output_type": "stream",
     "text": [
      "-rwxr-xr-x  1 esmeyang  staff  4207 Sep 27  2007 \u001b[31mscripts/tokenizer.perl\u001b[m\u001b[m\n"
     ]
    }
   ],
   "source": [
    "!ls -l scripts/tokenizer.perl\n"
   ]
  },
  {
   "cell_type": "code",
   "execution_count": 44,
   "metadata": {},
   "outputs": [
    {
     "name": "stdout",
     "output_type": "stream",
     "text": [
      "/Users/esmeyang\n"
     ]
    }
   ],
   "source": [
    "%cd"
   ]
  },
  {
   "cell_type": "code",
   "execution_count": 45,
   "metadata": {},
   "outputs": [
    {
     "data": {
      "text/plain": [
       "'/Users/esmeyang'"
      ]
     },
     "execution_count": 45,
     "metadata": {},
     "output_type": "execute_result"
    }
   ],
   "source": [
    "%pwd\n"
   ]
  },
  {
   "cell_type": "code",
   "execution_count": 46,
   "metadata": {},
   "outputs": [
    {
     "name": "stdout",
     "output_type": "stream",
     "text": [
      "zsh:1: no such file or directory: /Users/esmeyang/Documents/en_ewt-ud-dev.txt\n"
     ]
    }
   ],
   "source": [
    "!./scripts/tokenizer.perl -l en < /Users/esmeyang/Documents/en_ewt-ud-dev.txt | head\n"
   ]
  },
  {
   "cell_type": "code",
   "execution_count": 47,
   "metadata": {},
   "outputs": [
    {
     "name": "stdout",
     "output_type": "stream",
     "text": [
      "find: ./Pictures/Photos Library.photoslibrary: Operation not permitted\n",
      "find: ./Library/Application Support/CallHistoryTransactions: Operation not permitted\n",
      "find: ./Library/Application Support/CloudDocs/session/db: Operation not permitted\n",
      "find: ./Library/Application Support/com.apple.sharedfilelist: Operation not permitted\n",
      "find: ./Library/Application Support/Knowledge: Operation not permitted\n",
      "find: ./Library/Application Support/com.apple.TCC: Operation not permitted\n",
      "find: ./Library/Application Support/FileProvider: Operation not permitted\n",
      "find: ./Library/Application Support/AddressBook: Operation not permitted\n",
      "find: ./Library/Application Support/FaceTime: Operation not permitted\n",
      "find: ./Library/Application Support/com.apple.avfoundation/Frecents: Operation not permitted\n",
      "find: ./Library/Application Support/CallHistoryDB: Operation not permitted\n",
      "find: ./Library/Assistant/SiriVocabulary: Operation not permitted\n",
      "find: ./Library/Autosave Information: Operation not permitted\n",
      "find: ./Library/IdentityServices: Operation not permitted\n",
      "find: ./Library/Calendars: Operation not permitted\n",
      "find: ./Library/Messages: Operation not permitted\n",
      "find: ./Library/HomeKit: Operation not permitted\n",
      "find: ./Library/Sharing: Operation not permitted\n",
      "find: ./Library/com.apple.aiml.instrumentation: Operation not permitted\n",
      "find: ./Library/NGL: Permission denied\n",
      "find: ./Library/Mail: Operation not permitted\n",
      "find: ./Library/Trial: Operation not permitted\n",
      "find: ./Library/AppleMediaServices: Operation not permitted\n",
      "find: ./Library/DuetExpertCenter: Operation not permitted\n",
      "find: ./Library/Accounts: Operation not permitted\n",
      "find: ./Library/Safari: Operation not permitted\n",
      "find: ./Library/Biome: Operation not permitted\n",
      "find: ./Library/IntelligencePlatform: Operation not permitted\n",
      "find: ./Library/Shortcuts: Operation not permitted\n",
      "find: ./Library/Suggestions: Operation not permitted\n",
      "find: ./Library/Weather: Operation not permitted\n",
      "find: ./Library/Group Containers/group.com.apple.secure-control-center-preferences: Operation not permitted\n",
      "find: ./Library/Group Containers/group.com.apple.notes: Operation not permitted\n",
      "find: ./Library/Containers/com.apple.VoiceMemos: Operation not permitted\n",
      "find: ./Library/Containers/com.apple.archiveutility: Operation not permitted\n",
      "find: ./Library/Containers/com.apple.Maps/Data/Maps: Operation not permitted\n",
      "find: ./Library/Containers/com.apple.Home: Operation not permitted\n",
      "find: ./Library/Containers/com.apple.Safari: Operation not permitted\n",
      "find: ./Library/Containers/com.apple.CloudDocs.MobileDocumentsFileProvider: Operation not permitted\n",
      "find: ./Library/Containers/com.apple.mail: Operation not permitted\n",
      "find: ./Library/Containers/com.apple.Notes: Operation not permitted\n",
      "find: ./Library/Containers/com.apple.news: Operation not permitted\n",
      "find: ./Library/Containers/com.apple.corerecents.recentsd/Data/Library/Recents: Operation not permitted\n",
      "find: ./Library/Containers/com.apple.stocks: Operation not permitted\n",
      "find: ./Library/PersonalizationPortrait: Operation not permitted\n",
      "find: ./Library/Photos/Libraries/Syndication.photoslibrary: Operation not permitted\n",
      "find: ./Library/Metadata/CoreSpotlight: Operation not permitted\n",
      "find: ./Library/Metadata/com.apple.IntelligentSuggestions: Operation not permitted\n",
      "find: ./Library/Cookies: Operation not permitted\n",
      "find: ./Library/CoreFollowUp: Operation not permitted\n",
      "find: ./Library/StatusKit: Operation not permitted\n",
      "find: ./Library/DoNotDisturb: Operation not permitted\n",
      "find: ./Library/Caches/com.apple.HomeKit: Operation not permitted\n",
      "find: ./Library/Caches/CloudKit: Operation not permitted\n",
      "find: ./Library/Caches/com.apple.Safari: Operation not permitted\n",
      "find: ./Library/Caches/com.apple.findmy.imagecache: Operation not permitted\n",
      "find: ./Library/Caches/com.apple.findmy.fmfcore: Operation not permitted\n",
      "find: ./Library/Caches/FamilyCircle: Operation not permitted\n",
      "find: ./Library/Caches/com.apple.homed: Operation not permitted\n",
      "find: ./Library/Caches/com.apple.findmy.fmipcore: Operation not permitted\n",
      "find: ./Library/Caches/com.apple.ap.adprivacyd: Operation not permitted\n",
      "find: ./.Trash: Operation not permitted\n",
      "./Downloads/en_ewt-ud-dev.txt\n"
     ]
    }
   ],
   "source": [
    "!find . -name \"en_ewt-ud-dev.txt\""
   ]
  },
  {
   "cell_type": "markdown",
   "metadata": {},
   "source": [
    "\n",
    "We are now able to run tokenizer.perl to perform tokenization on the raw text."
   ]
  },
  {
   "cell_type": "code",
   "execution_count": 49,
   "metadata": {},
   "outputs": [
    {
     "name": "stdout",
     "output_type": "stream",
     "text": [
      "Tokenizer v3\n",
      "Language: en\n"
     ]
    }
   ],
   "source": [
    "!./scripts/tokenizer.perl -l en < ./Downloads/en_ewt-ud-dev.txt > ./Downloads/en_ewt-ud-dev.txt.tokenized_moses"
   ]
  },
  {
   "cell_type": "code",
   "execution_count": 52,
   "metadata": {},
   "outputs": [
    {
     "name": "stdout",
     "output_type": "stream",
     "text": [
      "From the AP comes this story :\n",
      "\n",
      "President Bush on Tuesday nominated two individuals to replace retiring jurists\n",
      "on federal courts in the Washington area . Bush nominated Jennifer M. Anderson\n",
      "for a 15-year term as associate judge of the Superior Court of the District of\n",
      "Columbia , replacing Steffen W. Graae . * * * Bush also nominated A. Noel Anketell\n",
      "Kramer for a 15-year term as associate judge of the District of Columbia Court\n",
      "of Appeals , replacing John Montague Steadman .\n",
      "\n",
      "The sheikh in wheel-chair has been attacked with a F-16-launched bomb . He could\n"
     ]
    }
   ],
   "source": [
    "!head ./Downloads/en_ewt-ud-dev.txt.tokenized_moses\n"
   ]
  },
  {
   "cell_type": "code",
   "execution_count": 55,
   "metadata": {},
   "outputs": [
    {
     "name": "stdout",
     "output_type": "stream",
     "text": [
      "--2024-04-17 19:01:43--  https://www.statmt.org/wmt09/scripts.tgz\n",
      "正在解析主机 www.statmt.org (www.statmt.org)... 129.215.32.28\n",
      "正在连接 www.statmt.org (www.statmt.org)|129.215.32.28|:443... 已连接。\n",
      "已发出 HTTP 请求，正在等待回应... 200 OK\n",
      "长度：4927 (4.8K) [application/x-gzip]\n",
      "正在保存至: “scripts.tgz.1”\n",
      "\n",
      "scripts.tgz.1       100%[===================>]   4.81K  --.-KB/s  用时 0s        \n",
      "\n",
      "2024-04-17 19:01:44 (313 MB/s) - 已保存 “scripts.tgz.1” [4927/4927])\n",
      "\n"
     ]
    }
   ],
   "source": [
    "!wget https://www.statmt.org/wmt09/scripts.tgz\n"
   ]
  },
  {
   "cell_type": "markdown",
   "metadata": {},
   "source": [
    "## 2. Sentence Boundary Detection\n",
    "```sdd.py```\n",
    "sbd.py\n",
    "First, download and extract the sentence splitter sbd.py in splitta-0.1.0.tar.gz from https://files.pythonhosted.org/packages/cf/d2/9771eb65f1dc3925dbcfc7c4b2adaefa38e1549e4e4e75409df316f8c453/splitta-0.1.0.tar.gz.\n"
   ]
  },
  {
   "cell_type": "code",
   "execution_count": 53,
   "metadata": {},
   "outputs": [
    {
     "name": "stdout",
     "output_type": "stream",
     "text": [
      "用法: java [-options] class [args...]\n",
      "           (执行类)\n",
      "   或  java [-options] -jar jarfile [args...]\n",
      "           (执行 jar 文件)\n",
      "其中选项包括:\n",
      "    -d32\t  使用 32 位数据模型 (如果可用)\n",
      "    -d64\t  使用 64 位数据模型 (如果可用)\n",
      "    -server\t  选择 \"server\" VM\n",
      "                  默认 VM 是 server,\n",
      "                  因为您是在服务器类计算机上运行。\n",
      "\n",
      "\n",
      "    -cp <目录和 zip/jar 文件的类搜索路径>\n",
      "    -classpath <目录和 zip/jar 文件的类搜索路径>\n",
      "                  用 : 分隔的目录, JAR 档案\n",
      "                  和 ZIP 档案列表, 用于搜索类文件。\n",
      "    -D<名称>=<值>\n",
      "                  设置系统属性\n",
      "    -verbose:[class|gc|jni]\n",
      "                  启用详细输出\n",
      "    -version      输出产品版本并退出\n",
      "    -version:<值>\n",
      "                  警告: 此功能已过时, 将在\n",
      "                  未来发行版中删除。\n",
      "                  需要指定的版本才能运行\n",
      "    -showversion  输出产品版本并继续\n",
      "    -jre-restrict-search | -no-jre-restrict-search\n",
      "                  警告: 此功能已过时, 将在\n",
      "                  未来发行版中删除。\n",
      "                  在版本搜索中包括/排除用户专用 JRE\n",
      "    -? -help      输出此帮助消息\n",
      "    -X            输出非标准选项的帮助\n",
      "    -ea[:<packagename>...|:<classname>]\n",
      "    -enableassertions[:<packagename>...|:<classname>]\n",
      "                  按指定的粒度启用断言\n",
      "    -da[:<packagename>...|:<classname>]\n",
      "    -disableassertions[:<packagename>...|:<classname>]\n",
      "                  禁用具有指定粒度的断言\n",
      "    -esa | -enablesystemassertions\n",
      "                  启用系统断言\n",
      "    -dsa | -disablesystemassertions\n",
      "                  禁用系统断言\n",
      "    -agentlib:<libname>[=<选项>]\n",
      "                  加载本机代理库 <libname>, 例如 -agentlib:hprof\n",
      "                  另请参阅 -agentlib:jdwp=help 和 -agentlib:hprof=help\n",
      "    -agentpath:<pathname>[=<选项>]\n",
      "                  按完整路径名加载本机代理库\n",
      "    -javaagent:<jarpath>[=<选项>]\n",
      "                  加载 Java 编程语言代理, 请参阅 java.lang.instrument\n",
      "    -splash:<imagepath>\n",
      "                  使用指定的图像显示启动屏幕\n",
      "有关详细信息, 请参阅 http://www.oracle.com/technetwork/java/javase/documentation/index.html。\n"
     ]
    }
   ],
   "source": [
    "!java"
   ]
  },
  {
   "cell_type": "code",
   "execution_count": 58,
   "metadata": {},
   "outputs": [
    {
     "name": "stdout",
     "output_type": "stream",
     "text": [
      "==> ./Downloads/en_ewt-ud-dev.txt.tokenized_corenlp <==\n",
      "\n",
      "==> ./Downloads/en_ewt-ud-dev.txt.tokenized_moses <==\n",
      "From the AP comes this story :\n",
      "\n",
      "President Bush on Tuesday nominated two individuals to replace retiring jurists\n",
      "on federal courts in the Washington area . Bush nominated Jennifer M. Anderson\n",
      "for a 15-year term as associate judge of the Superior Court of the District of\n"
     ]
    }
   ],
   "source": [
    "!head -n 5 ./Downloads/en_ewt-ud-dev.txt.tokenized_*"
   ]
  },
  {
   "cell_type": "code",
   "execution_count": 59,
   "metadata": {},
   "outputs": [
    {
     "name": "stdout",
     "output_type": "stream",
     "text": [
      "--2024-04-17 19:04:34--  https://files.pythonhosted.org/packages/cf/d2/9771eb65f1dc3925dbcfc7c4b2adaefa38e1549e4e4e75409df316f8c453/splitta-0.1.0.tar.gz\n",
      "正在解析主机 files.pythonhosted.org (files.pythonhosted.org)... 146.75.40.223\n",
      "正在连接 files.pythonhosted.org (files.pythonhosted.org)|146.75.40.223|:443... 已连接。\n",
      "已发出 HTTP 请求，正在等待回应... 200 OK\n",
      "长度：6943603 (6.6M) [application/octet-stream]\n",
      "正在保存至: “splitta-0.1.0.tar.gz”\n",
      "\n",
      "splitta-0.1.0.tar.g 100%[===================>]   6.62M  6.25MB/s  用时 1.1s      \n",
      "\n",
      "2024-04-17 19:04:36 (6.25 MB/s) - 已保存 “splitta-0.1.0.tar.gz” [6943603/6943603])\n",
      "\n"
     ]
    }
   ],
   "source": [
    "!wget https://files.pythonhosted.org/packages/cf/d2/9771eb65f1dc3925dbcfc7c4b2adaefa38e1549e4e4e75409df316f8c453/splitta-0.1.0.tar.gz\n"
   ]
  },
  {
   "cell_type": "code",
   "execution_count": 60,
   "metadata": {},
   "outputs": [
    {
     "name": "stdout",
     "output_type": "stream",
     "text": [
      "--2024-04-17 19:04:43--  http://download.joachims.org/svm_light/current/svm_light.tar.gz\n",
      "正在解析主机 download.joachims.org (download.joachims.org)... 185.3.235.176\n",
      "正在连接 download.joachims.org (download.joachims.org)|185.3.235.176|:80... 已连接。\n",
      "已发出 HTTP 请求，正在等待回应... 301 Moved Permanently\n",
      "位置：https://osmot.cs.cornell.edu//svm_light/current/svm_light.tar.gz [跟随至新的 URL]\n",
      "--2024-04-17 19:04:44--  https://osmot.cs.cornell.edu//svm_light/current/svm_light.tar.gz\n",
      "正在解析主机 osmot.cs.cornell.edu (osmot.cs.cornell.edu)... 128.253.51.12\n",
      "正在连接 osmot.cs.cornell.edu (osmot.cs.cornell.edu)|128.253.51.12|:443... 已连接。\n",
      "已发出 HTTP 请求，正在等待回应... 200 OK\n",
      "长度：51026 (50K) [application/x-gzip]\n",
      "正在保存至: “svm_light.tar.gz”\n",
      "\n",
      "svm_light.tar.gz    100%[===================>]  49.83K  --.-KB/s  用时 0.08s     \n",
      "\n",
      "2024-04-17 19:04:45 (617 KB/s) - 已保存 “svm_light.tar.gz” [51026/51026])\n",
      "\n"
     ]
    }
   ],
   "source": [
    "!wget http://download.joachims.org/svm_light/current/svm_light.tar.gz\n"
   ]
  },
  {
   "cell_type": "code",
   "execution_count": 61,
   "metadata": {},
   "outputs": [],
   "source": [
    "!mkdir svm_light\n"
   ]
  },
  {
   "cell_type": "code",
   "execution_count": 62,
   "metadata": {},
   "outputs": [],
   "source": [
    "!mv svm_light.tar.gz svm_light/\n"
   ]
  },
  {
   "cell_type": "code",
   "execution_count": 63,
   "metadata": {},
   "outputs": [
    {
     "name": "stdout",
     "output_type": "stream",
     "text": [
      "/Users/esmeyang/svm_light\n"
     ]
    }
   ],
   "source": [
    "%cd svm_light/\n"
   ]
  },
  {
   "cell_type": "code",
   "execution_count": 64,
   "metadata": {},
   "outputs": [
    {
     "name": "stdout",
     "output_type": "stream",
     "text": [
      "/Users/esmeyang/svm_light\n"
     ]
    }
   ],
   "source": [
    "!pwd\n"
   ]
  },
  {
   "cell_type": "code",
   "execution_count": 65,
   "metadata": {},
   "outputs": [
    {
     "name": "stdout",
     "output_type": "stream",
     "text": [
      "make: *** No rule to make target `all'.  Stop.\n"
     ]
    }
   ],
   "source": [
    "!make all \n"
   ]
  },
  {
   "cell_type": "code",
   "execution_count": 66,
   "metadata": {},
   "outputs": [
    {
     "name": "stdout",
     "output_type": "stream",
     "text": [
      "svm_light.tar.gz\n"
     ]
    }
   ],
   "source": [
    "!ls\n"
   ]
  },
  {
   "cell_type": "code",
   "execution_count": 67,
   "metadata": {},
   "outputs": [
    {
     "name": "stdout",
     "output_type": "stream",
     "text": [
      "--2024-04-17 19:05:27--  http://download.joachims.org/svm_light/current/svm_light.tar.gz\n",
      "正在解析主机 download.joachims.org (download.joachims.org)... 185.3.235.176\n",
      "正在连接 download.joachims.org (download.joachims.org)|185.3.235.176|:80... 已连接。\n",
      "已发出 HTTP 请求，正在等待回应... 301 Moved Permanently\n",
      "位置：https://osmot.cs.cornell.edu//svm_light/current/svm_light.tar.gz [跟随至新的 URL]\n",
      "--2024-04-17 19:05:27--  https://osmot.cs.cornell.edu//svm_light/current/svm_light.tar.gz\n",
      "正在解析主机 osmot.cs.cornell.edu (osmot.cs.cornell.edu)... 128.253.51.12\n",
      "正在连接 osmot.cs.cornell.edu (osmot.cs.cornell.edu)|128.253.51.12|:443... 已连接。\n",
      "已发出 HTTP 请求，正在等待回应... 200 OK\n",
      "长度：51026 (50K) [application/x-gzip]\n",
      "正在保存至: “svm_light.tar.gz.1”\n",
      "\n",
      "svm_light.tar.gz.1  100%[===================>]  49.83K  --.-KB/s  用时 0.07s     \n",
      "\n",
      "2024-04-17 19:05:28 (677 KB/s) - 已保存 “svm_light.tar.gz.1” [51026/51026])\n",
      "\n"
     ]
    }
   ],
   "source": [
    "!wget http://download.joachims.org/svm_light/current/svm_light.tar.gz\n"
   ]
  },
  {
   "cell_type": "code",
   "execution_count": 68,
   "metadata": {},
   "outputs": [
    {
     "name": "stdout",
     "output_type": "stream",
     "text": [
      "x LICENSE.txt\n",
      "x Makefile\n",
      "x svm_learn.c\n",
      "x kernel.h\n",
      "x svm_learn.h\n",
      "x svm_learn_main.c\n",
      "x svm_classify.c\n",
      "x svm_loqo.c\n",
      "x svm_common.c\n",
      "x svm_common.h\n",
      "x svm_hideo.c\n"
     ]
    }
   ],
   "source": [
    "!tar xvfz svm_light.tar.gz\n"
   ]
  },
  {
   "cell_type": "markdown",
   "metadata": {},
   "source": [
    "unzip the file"
   ]
  },
  {
   "cell_type": "code",
   "execution_count": 69,
   "metadata": {},
   "outputs": [
    {
     "name": "stdout",
     "output_type": "stream",
     "text": [
      "gcc -c  -O3                      svm_learn_main.c -o svm_learn_main.o \n",
      "\u001b[1msvm_learn_main.c:382:63: \u001b[0m\u001b[0;1;35mwarning: \u001b[0m\u001b[1millegal character encoding in string literal [-Winvalid-source-encoding]\u001b[0m\n",
      "  printf(\"    Kernel Methods - Support Vector Learning, B. Sch\u001b[0m\u001b[7m<F6>\u001b[0mlkopf and C. Burges and\\n\");\n",
      "\u001b[0;1;32m                                                              ^~~~\n",
      "\u001b[0m1 warning generated.\n",
      "gcc -c  -O3                      svm_learn.c -o svm_learn.o \n",
      "\u001b[1msvm_learn.c:2794:24: \u001b[0m\u001b[0;1;35mwarning: \u001b[0m\u001b[1mequality comparison with extraneous parentheses [-Wparentheses-equality]\u001b[0m\n",
      "      if((unlabeled[i] == 2)) {\n",
      "\u001b[0;1;32m          ~~~~~~~~~~~~~^~~~\n",
      "\u001b[0m\u001b[1msvm_learn.c:2794:24: \u001b[0m\u001b[0;1;30mnote: \u001b[0mremove extraneous parentheses around the comparison to silence this warning\u001b[0m\n",
      "      if((unlabeled[i] == 2)) {\n",
      "\u001b[0;1;32m         ~             ^   ~\n",
      "\u001b[0m\u001b[1msvm_learn.c:2794:24: \u001b[0m\u001b[0;1;30mnote: \u001b[0muse '=' to turn this equality comparison into an assignment\u001b[0m\n",
      "      if((unlabeled[i] == 2)) {\n",
      "\u001b[0;1;32m                       ^~\n",
      "\u001b[0m\u001b[0;32m                       =\n",
      "\u001b[0m\u001b[1msvm_learn.c:2800:29: \u001b[0m\u001b[0;1;35mwarning: \u001b[0m\u001b[1mequality comparison with extraneous parentheses [-Wparentheses-equality]\u001b[0m\n",
      "      else if((unlabeled[i] == 3)) {\n",
      "\u001b[0;1;32m               ~~~~~~~~~~~~~^~~~\n",
      "\u001b[0m\u001b[1msvm_learn.c:2800:29: \u001b[0m\u001b[0;1;30mnote: \u001b[0mremove extraneous parentheses around the comparison to silence this warning\u001b[0m\n",
      "      else if((unlabeled[i] == 3)) {\n",
      "\u001b[0;1;32m              ~             ^   ~\n",
      "\u001b[0m\u001b[1msvm_learn.c:2800:29: \u001b[0m\u001b[0;1;30mnote: \u001b[0muse '=' to turn this equality comparison into an assignment\u001b[0m\n",
      "      else if((unlabeled[i] == 3)) {\n",
      "\u001b[0;1;32m                            ^~\n",
      "\u001b[0m\u001b[0;32m                            =\n",
      "\u001b[0m2 warnings generated.\n",
      "gcc -c  -O3                      svm_common.c -o svm_common.o \n",
      "gcc -c  -O3                      svm_hideo.c -o svm_hideo.o \n",
      "\u001b[1msvm_hideo.c:67:7: \u001b[0m\u001b[0;1;35mwarning: \u001b[0m\u001b[1ma function declaration without a prototype is deprecated in all versions of C and is not supported in C2x [-Wdeprecated-non-prototype]\u001b[0m\n",
      "void *my_malloc();\n",
      "\u001b[0;1;32m      ^\n",
      "\u001b[0m\u001b[1msvm_hideo.c:87:9: \u001b[0m\u001b[0;1;35mwarning: \u001b[0m\u001b[1ma function declaration without a prototype is deprecated in all versions of C and is not supported in C2x [-Wdeprecated-non-prototype]\u001b[0m\n",
      "double *optimize_qp(qp,epsilon_crit,nx,threshold,learn_parm)\n",
      "\u001b[0;1;32m        ^\n",
      "\u001b[0m\u001b[1msvm_hideo.c:237:5: \u001b[0m\u001b[0;1;35mwarning: \u001b[0m\u001b[1ma function declaration without a prototype is deprecated in all versions of C and is not supported in C2x [-Wdeprecated-non-prototype]\u001b[0m\n",
      "int optimize_hildreth_despo(n,m,precision,epsilon_crit,epsilon_a,maxiter,goal,\n",
      "\u001b[0;1;32m    ^\n",
      "\u001b[0m\u001b[1msvm_hideo.c:641:5: \u001b[0m\u001b[0;1;35mwarning: \u001b[0m\u001b[1ma function declaration without a prototype is deprecated in all versions of C and is not supported in C2x [-Wdeprecated-non-prototype]\u001b[0m\n",
      "int solve_dual(n,m,precision,epsilon_crit,maxiter,g,g0,ce,ce0,low,up,primal,\n",
      "\u001b[0;1;32m    ^\n",
      "\u001b[0m\u001b[1msvm_hideo.c:924:6: \u001b[0m\u001b[0;1;35mwarning: \u001b[0m\u001b[1ma function declaration without a prototype is deprecated in all versions of C and is not supported in C2x [-Wdeprecated-non-prototype]\u001b[0m\n",
      "void linvert_matrix(matrix,depth,inverse,lindep_sensitivity,lin_dependent)\n",
      "\u001b[0;1;32m     ^\n",
      "\u001b[0m\u001b[1msvm_hideo.c:975:6: \u001b[0m\u001b[0;1;35mwarning: \u001b[0m\u001b[1ma function declaration without a prototype is deprecated in all versions of C and is not supported in C2x [-Wdeprecated-non-prototype]\u001b[0m\n",
      "void lprint_matrix(matrix,depth)\n",
      "\u001b[0;1;32m     ^\n",
      "\u001b[0m\u001b[1msvm_hideo.c:989:6: \u001b[0m\u001b[0;1;35mwarning: \u001b[0m\u001b[1ma function declaration without a prototype is deprecated in all versions of C and is not supported in C2x [-Wdeprecated-non-prototype]\u001b[0m\n",
      "void ladd_matrix(matrix,depth,scalar)\n",
      "\u001b[0;1;32m     ^\n",
      "\u001b[0m\u001b[1msvm_hideo.c:1002:6: \u001b[0m\u001b[0;1;35mwarning: \u001b[0m\u001b[1ma function declaration without a prototype is deprecated in all versions of C and is not supported in C2x [-Wdeprecated-non-prototype]\u001b[0m\n",
      "void lcopy_matrix(matrix,depth,matrix2) \n",
      "\u001b[0;1;32m     ^\n",
      "\u001b[0m\u001b[1msvm_hideo.c:1014:6: \u001b[0m\u001b[0;1;35mwarning: \u001b[0m\u001b[1ma function declaration without a prototype is deprecated in all versions of C and is not supported in C2x [-Wdeprecated-non-prototype]\u001b[0m\n",
      "void lswitch_rows_matrix(matrix,depth,r1,r2) \n",
      "\u001b[0;1;32m     ^\n",
      "\u001b[0m\u001b[1msvm_hideo.c:1028:6: \u001b[0m\u001b[0;1;35mwarning: \u001b[0m\u001b[1ma function declaration without a prototype is deprecated in all versions of C and is not supported in C2x [-Wdeprecated-non-prototype]\u001b[0m\n",
      "void lswitchrk_matrix(matrix,depth,rk1,rk2) \n",
      "\u001b[0;1;32m     ^\n",
      "\u001b[0m\u001b[1msvm_hideo.c:1047:8: \u001b[0m\u001b[0;1;35mwarning: \u001b[0m\u001b[1ma function declaration without a prototype is deprecated in all versions of C and is not supported in C2x [-Wdeprecated-non-prototype]\u001b[0m\n",
      "double calculate_qp_objective(opt_n,opt_g,opt_g0,alpha)\n",
      "\u001b[0;1;32m       ^\n",
      "\u001b[0m11 warnings generated.\n",
      "gcc  -O3                      svm_learn_main.o svm_learn.o svm_common.o svm_hideo.o -o svm_learn -L. -lm                               \n",
      "gcc -c  -O3                      svm_classify.c -o svm_classify.o\n",
      "gcc  -O3                      svm_classify.o svm_common.o -o svm_classify -L. -lm                               \n"
     ]
    }
   ],
   "source": [
    "!make all"
   ]
  },
  {
   "cell_type": "markdown",
   "metadata": {},
   "source": [
    "\n",
    "In the svm_light directory, run make all to compile the svm-light programme along with all of the required dependencies."
   ]
  },
  {
   "cell_type": "code",
   "execution_count": 70,
   "metadata": {},
   "outputs": [
    {
     "name": "stdout",
     "output_type": "stream",
     "text": [
      "\u001b[31msvm_classify\u001b[m\u001b[m\n"
     ]
    }
   ],
   "source": [
    "!ls svm_classify\n"
   ]
  },
  {
   "cell_type": "code",
   "execution_count": 71,
   "metadata": {},
   "outputs": [
    {
     "name": "stdout",
     "output_type": "stream",
     "text": [
      "/Users/esmeyang/svm_light\n"
     ]
    }
   ],
   "source": [
    "!pwd\n"
   ]
  },
  {
   "cell_type": "code",
   "execution_count": 77,
   "metadata": {},
   "outputs": [
    {
     "name": "stdout",
     "output_type": "stream",
     "text": [
      ".\n",
      "./svm_classify\n",
      "./svm_learn.o\n",
      "./svm_learn.h\n",
      "./svm_learn\n",
      "./svm_common.c\n",
      "./svm_learn_main.c\n",
      "./svm_hideo.c\n",
      "./Makefile\n",
      "./svm_classify.o\n",
      "./svm_learn.c\n",
      "./svm_light.tar.gz\n",
      "./svm_hideo.o\n",
      "./svm_common.o\n",
      "./svm_learn_main.o\n",
      "./svm_common.h\n",
      "./kernel.h\n",
      "./svm_loqo.c\n",
      "./LICENSE.txt\n",
      "./svm_light.tar.gz.1\n",
      "./svm_classify.c\n",
      "find: splitta: No such file or directory\n"
     ]
    }
   ],
   "source": [
    "!find . \"splitta\""
   ]
  },
  {
   "cell_type": "code",
   "execution_count": 86,
   "metadata": {},
   "outputs": [
    {
     "name": "stdout",
     "output_type": "stream",
     "text": [
      "/https://files.pythonhosted.org/packages/cf/d2/9771eb65f1dc3925dbcfc7c4b2adaefa38e1549e4e4e75409df316f8c453/splitta-0.1.0.tar.gz: 地址缺少协议类型.\n"
     ]
    }
   ],
   "source": [
    "!wget -P \"/Users/esmeyang/Desktop/LING_242\" /https://files.pythonhosted.org/packages/cf/d2/9771eb65f1dc3925dbcfc7c4b2adaefa38e1549e4e4e75409df316f8c453/splitta-0.1.0.tar.gz"
   ]
  },
  {
   "cell_type": "code",
   "execution_count": 89,
   "metadata": {},
   "outputs": [],
   "source": [
    "!mkdir svm_light\n"
   ]
  },
  {
   "cell_type": "code",
   "execution_count": 90,
   "metadata": {},
   "outputs": [],
   "source": [
    "!mv svm_light.tar.gz svm_light/\n"
   ]
  },
  {
   "cell_type": "code",
   "execution_count": 91,
   "metadata": {},
   "outputs": [
    {
     "name": "stdout",
     "output_type": "stream",
     "text": [
      "/Users/esmeyang/svm_light/svm_light\n"
     ]
    }
   ],
   "source": [
    "%cd svm_light/\n",
    "\n"
   ]
  },
  {
   "cell_type": "markdown",
   "metadata": {},
   "source": [
    "We are able to perform SBD along with SVM-light on the tokenized text.\n",
    "\n"
   ]
  },
  {
   "cell_type": "code",
   "execution_count": 95,
   "metadata": {},
   "outputs": [],
   "source": [
    "!head -n 20 t"
   ]
  },
  {
   "cell_type": "code",
   "execution_count": 96,
   "metadata": {},
   "outputs": [
    {
     "name": "stdout",
     "output_type": "stream",
     "text": [
      "mv: rename t to splitta-0.1.0b/splitta/sbd.py: No such file or directory\n"
     ]
    }
   ],
   "source": [
    "/Users/esmeyang/Downloads/splitta-0.1.0b/splitta"
   ]
  },
  {
   "cell_type": "code",
   "execution_count": 97,
   "metadata": {},
   "outputs": [],
   "source": [
    "!cat /Users/esmeyang/Downloads/splitta-0.1.0b/splitta/sbd.py | sed 's/\\/Users\\/jungyeul\\/Downloads/\\/content/g' > t"
   ]
  },
  {
   "cell_type": "code",
   "execution_count": 98,
   "metadata": {},
   "outputs": [
    {
     "name": "stdout",
     "output_type": "stream",
     "text": [
      "import sys, os, math, tempfile, collections\n",
      "import sbd_util, word_tokenize\n",
      "try:\n",
      "    import re2 as re\n",
      "except ImportError:\n",
      "    import re\n",
      "\n",
      "\"\"\"\n",
      "Utilities for disambiguating sentence boundaries\n",
      "Copyright Dan Gillick, 2009.\n",
      "\n",
      "TODO:\n",
      "- capitalized headlines screw things up?\n",
      "\"\"\"\n",
      "\n",
      "## globals\n",
      "SVM_LEARN = '/content/svm_learn'\n",
      "SVM_CLASSIFY = '/content/svm_classify'\n",
      "\n",
      "def unannotate(t):\n"
     ]
    }
   ],
   "source": [
    "!head -n 20 t"
   ]
  },
  {
   "cell_type": "code",
   "execution_count": 101,
   "metadata": {},
   "outputs": [],
   "source": [
    "!mv t /Users/esmeyang/Downloads/splitta-0.1.0b/splitta/sbd.py"
   ]
  },
  {
   "cell_type": "code",
   "execution_count": 102,
   "metadata": {},
   "outputs": [
    {
     "name": "stdout",
     "output_type": "stream",
     "text": [
      "/Library/Frameworks/Python.framework/Versions/3.12/Resources/Python.app/Contents/MacOS/Python: can't open file '/Users/esmeyang/svm_light/svm_light/splitta-0.1.0b/splitta/sbd.py': [Errno 2] No such file or directory\n"
     ]
    }
   ],
   "source": [
    "!python3 splitta-0.1.0b/splitta/sbd.py --help"
   ]
  },
  {
   "cell_type": "code",
   "execution_count": 105,
   "metadata": {},
   "outputs": [
    {
     "name": "stdout",
     "output_type": "stream",
     "text": [
      "/Library/Frameworks/Python.framework/Versions/3.12/Resources/Python.app/Contents/MacOS/Python: can't open file '/Users/esmeyang/svm_light/svm_light/splitta-0.1.0b/splitta/sbd.py': [Errno 2] No such file or directory\n"
     ]
    }
   ],
   "source": [
    "!python3 splitta-0.1.0b/splitta/sbd.py -m /content/splitta-0.1.0b/splitta/model_svm en_ewt-ud-dev.txt > en_ewt-ud-dev.txt.sent\n"
   ]
  }
 ],
 "metadata": {
  "kernelspec": {
   "display_name": "Python 3",
   "language": "python",
   "name": "python3"
  },
  "language_info": {
   "codemirror_mode": {
    "name": "ipython",
    "version": 3
   },
   "file_extension": ".py",
   "mimetype": "text/x-python",
   "name": "python",
   "nbconvert_exporter": "python",
   "pygments_lexer": "ipython3",
   "version": "3.12.1"
  }
 },
 "nbformat": 4,
 "nbformat_minor": 2
}
